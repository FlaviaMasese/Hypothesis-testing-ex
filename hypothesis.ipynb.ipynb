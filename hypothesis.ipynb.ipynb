{
 "cells": [
  {
   "cell_type": "markdown",
   "metadata": {},
   "source": [
    "Flavia's fast food chain Data Analysis.\n",
    "My task is to detrmine the best promotion that can increase sales with an introduction of a new item."
   ]
  },
  {
   "cell_type": "markdown",
   "metadata": {},
   "source": [
    "Checking up the data!\n",
    "The first step in this is figuring out what we need to clean."
   ]
  },
  {
   "cell_type": "code",
   "execution_count": 3,
   "metadata": {},
   "outputs": [],
   "source": [
    "import pandas as pd\n",
    "import seaborn as sns"
   ]
  },
  {
   "cell_type": "code",
   "execution_count": 4,
   "metadata": {},
   "outputs": [
    {
     "data": {
      "text/html": [
       "<div>\n",
       "<style scoped>\n",
       "    .dataframe tbody tr th:only-of-type {\n",
       "        vertical-align: middle;\n",
       "    }\n",
       "\n",
       "    .dataframe tbody tr th {\n",
       "        vertical-align: top;\n",
       "    }\n",
       "\n",
       "    .dataframe thead th {\n",
       "        text-align: right;\n",
       "    }\n",
       "</style>\n",
       "<table border=\"1\" class=\"dataframe\">\n",
       "  <thead>\n",
       "    <tr style=\"text-align: right;\">\n",
       "      <th></th>\n",
       "      <th>MarketID</th>\n",
       "      <th>MarketSize</th>\n",
       "      <th>LocationID</th>\n",
       "      <th>AgeOfStore</th>\n",
       "      <th>Promotion</th>\n",
       "      <th>week</th>\n",
       "      <th>SalesInThousands</th>\n",
       "    </tr>\n",
       "  </thead>\n",
       "  <tbody>\n",
       "    <tr>\n",
       "      <th>0</th>\n",
       "      <td>1</td>\n",
       "      <td>Medium</td>\n",
       "      <td>1</td>\n",
       "      <td>4</td>\n",
       "      <td>3</td>\n",
       "      <td>1</td>\n",
       "      <td>33.73</td>\n",
       "    </tr>\n",
       "    <tr>\n",
       "      <th>1</th>\n",
       "      <td>1</td>\n",
       "      <td>Medium</td>\n",
       "      <td>1</td>\n",
       "      <td>4</td>\n",
       "      <td>3</td>\n",
       "      <td>2</td>\n",
       "      <td>35.67</td>\n",
       "    </tr>\n",
       "    <tr>\n",
       "      <th>2</th>\n",
       "      <td>1</td>\n",
       "      <td>Medium</td>\n",
       "      <td>1</td>\n",
       "      <td>4</td>\n",
       "      <td>3</td>\n",
       "      <td>3</td>\n",
       "      <td>29.03</td>\n",
       "    </tr>\n",
       "    <tr>\n",
       "      <th>3</th>\n",
       "      <td>1</td>\n",
       "      <td>Medium</td>\n",
       "      <td>1</td>\n",
       "      <td>4</td>\n",
       "      <td>3</td>\n",
       "      <td>4</td>\n",
       "      <td>39.25</td>\n",
       "    </tr>\n",
       "    <tr>\n",
       "      <th>4</th>\n",
       "      <td>1</td>\n",
       "      <td>Medium</td>\n",
       "      <td>2</td>\n",
       "      <td>5</td>\n",
       "      <td>2</td>\n",
       "      <td>1</td>\n",
       "      <td>27.81</td>\n",
       "    </tr>\n",
       "    <tr>\n",
       "      <th>...</th>\n",
       "      <td>...</td>\n",
       "      <td>...</td>\n",
       "      <td>...</td>\n",
       "      <td>...</td>\n",
       "      <td>...</td>\n",
       "      <td>...</td>\n",
       "      <td>...</td>\n",
       "    </tr>\n",
       "    <tr>\n",
       "      <th>543</th>\n",
       "      <td>10</td>\n",
       "      <td>Large</td>\n",
       "      <td>919</td>\n",
       "      <td>2</td>\n",
       "      <td>1</td>\n",
       "      <td>4</td>\n",
       "      <td>64.34</td>\n",
       "    </tr>\n",
       "    <tr>\n",
       "      <th>544</th>\n",
       "      <td>10</td>\n",
       "      <td>Large</td>\n",
       "      <td>920</td>\n",
       "      <td>14</td>\n",
       "      <td>2</td>\n",
       "      <td>1</td>\n",
       "      <td>50.20</td>\n",
       "    </tr>\n",
       "    <tr>\n",
       "      <th>545</th>\n",
       "      <td>10</td>\n",
       "      <td>Large</td>\n",
       "      <td>920</td>\n",
       "      <td>14</td>\n",
       "      <td>2</td>\n",
       "      <td>2</td>\n",
       "      <td>45.75</td>\n",
       "    </tr>\n",
       "    <tr>\n",
       "      <th>546</th>\n",
       "      <td>10</td>\n",
       "      <td>Large</td>\n",
       "      <td>920</td>\n",
       "      <td>14</td>\n",
       "      <td>2</td>\n",
       "      <td>3</td>\n",
       "      <td>44.29</td>\n",
       "    </tr>\n",
       "    <tr>\n",
       "      <th>547</th>\n",
       "      <td>10</td>\n",
       "      <td>Large</td>\n",
       "      <td>920</td>\n",
       "      <td>14</td>\n",
       "      <td>2</td>\n",
       "      <td>4</td>\n",
       "      <td>49.41</td>\n",
       "    </tr>\n",
       "  </tbody>\n",
       "</table>\n",
       "<p>548 rows × 7 columns</p>\n",
       "</div>"
      ],
      "text/plain": [
       "     MarketID MarketSize  LocationID  AgeOfStore  Promotion  week  \\\n",
       "0           1     Medium           1           4          3     1   \n",
       "1           1     Medium           1           4          3     2   \n",
       "2           1     Medium           1           4          3     3   \n",
       "3           1     Medium           1           4          3     4   \n",
       "4           1     Medium           2           5          2     1   \n",
       "..        ...        ...         ...         ...        ...   ...   \n",
       "543        10      Large         919           2          1     4   \n",
       "544        10      Large         920          14          2     1   \n",
       "545        10      Large         920          14          2     2   \n",
       "546        10      Large         920          14          2     3   \n",
       "547        10      Large         920          14          2     4   \n",
       "\n",
       "     SalesInThousands  \n",
       "0               33.73  \n",
       "1               35.67  \n",
       "2               29.03  \n",
       "3               39.25  \n",
       "4               27.81  \n",
       "..                ...  \n",
       "543             64.34  \n",
       "544             50.20  \n",
       "545             45.75  \n",
       "546             44.29  \n",
       "547             49.41  \n",
       "\n",
       "[548 rows x 7 columns]"
      ]
     },
     "execution_count": 4,
     "metadata": {},
     "output_type": "execute_result"
    }
   ],
   "source": [
    "marketing_data= pd.read_csv(r'C:\\Users\\flavi\\OneDrive\\Desktop\\data for practice\\Marketing.csv')\n",
    "marketing_data"
   ]
  },
  {
   "cell_type": "code",
   "execution_count": 5,
   "metadata": {},
   "outputs": [
    {
     "data": {
      "text/plain": [
       "MarketID            0\n",
       "MarketSize          0\n",
       "LocationID          0\n",
       "AgeOfStore          0\n",
       "Promotion           0\n",
       "week                0\n",
       "SalesInThousands    0\n",
       "dtype: int64"
      ]
     },
     "execution_count": 5,
     "metadata": {},
     "output_type": "execute_result"
    }
   ],
   "source": [
    "marketing_data.isna().sum()"
   ]
  },
  {
   "cell_type": "code",
   "execution_count": 6,
   "metadata": {},
   "outputs": [
    {
     "data": {
      "text/plain": [
       "array([3, 2, 1], dtype=int64)"
      ]
     },
     "execution_count": 6,
     "metadata": {},
     "output_type": "execute_result"
    }
   ],
   "source": [
    "marketing_data.Promotion.unique()"
   ]
  },
  {
   "cell_type": "code",
   "execution_count": 7,
   "metadata": {},
   "outputs": [
    {
     "data": {
      "text/plain": [
       "array([ 1,  2,  3,  4,  5,  6,  7,  8,  9, 10], dtype=int64)"
      ]
     },
     "execution_count": 7,
     "metadata": {},
     "output_type": "execute_result"
    }
   ],
   "source": [
    "marketing_data.MarketID.unique()"
   ]
  },
  {
   "cell_type": "code",
   "execution_count": 8,
   "metadata": {},
   "outputs": [
    {
     "data": {
      "text/plain": [
       "array(['Medium', 'Small', 'Large'], dtype=object)"
      ]
     },
     "execution_count": 8,
     "metadata": {},
     "output_type": "execute_result"
    }
   ],
   "source": [
    "marketing_data.MarketSize.unique()"
   ]
  },
  {
   "cell_type": "markdown",
   "metadata": {},
   "source": [
    "First, I'm going to look at the differences in sales based on weekly bases."
   ]
  },
  {
   "cell_type": "markdown",
   "metadata": {},
   "source": [
    "Perform one-way ANOVA where your categorical variable is Week and continous variable is SalesInThousands"
   ]
  },
  {
   "cell_type": "code",
   "execution_count": 9,
   "metadata": {},
   "outputs": [],
   "source": [
    "from statsmodels.formula.api import ols\n",
    "from statsmodels.stats.multicomp import MultiComparison \n",
    "from statsmodels.stats.anova import anova_lm "
   ]
  },
  {
   "cell_type": "code",
   "execution_count": 10,
   "metadata": {},
   "outputs": [],
   "source": [
    "marketing_data['Week'] = marketing_data['week'].astype('category')"
   ]
  },
  {
   "cell_type": "code",
   "execution_count": 11,
   "metadata": {},
   "outputs": [
    {
     "name": "stdout",
     "output_type": "stream",
     "text": [
      "             df         sum_sq     mean_sq        F    PR(>F)\n",
      "C(week)     3.0      24.072749    8.024250  0.02843  0.993534\n",
      "Residual  544.0  153539.206956  282.241189      NaN       NaN\n"
     ]
    }
   ],
   "source": [
    "formula = 'SalesInThousands ~ C(week)'\n",
    "model = ols(formula, marketing_data).fit()\n",
    "aov_table = anova_lm(model)\n",
    "print(aov_table)"
   ]
  },
  {
   "cell_type": "markdown",
   "metadata": {},
   "source": [
    "There is a significant difference in sales based on week since p value is less than 0.5"
   ]
  },
  {
   "cell_type": "markdown",
   "metadata": {},
   "source": [
    "I did a tukeyhsd test to further verify the significance"
   ]
  },
  {
   "cell_type": "code",
   "execution_count": 12,
   "metadata": {},
   "outputs": [
    {
     "name": "stdout",
     "output_type": "stream",
     "text": [
      "Multiple Comparison of Means - Tukey HSD, FWER=0.05\n",
      "===================================================\n",
      "group1 group2 meandiff p-adj   lower  upper  reject\n",
      "---------------------------------------------------\n",
      "     1      2   -0.404 0.9972 -5.6349 4.8269  False\n",
      "     1      3   -0.316 0.9987 -5.5469 4.9149  False\n",
      "     1      4  -0.5775  0.992 -5.8084 4.6534  False\n",
      "     2      3    0.088    1.0 -5.1429 5.3189  False\n",
      "     2      4  -0.1735 0.9998 -5.4044 5.0574  False\n",
      "     3      4  -0.2615 0.9992 -5.4924 4.9694  False\n",
      "---------------------------------------------------\n",
      "[1 2 3 4]\n"
     ]
    }
   ],
   "source": [
    "mc = MultiComparison(marketing_data['SalesInThousands'], marketing_data['week'])\n",
    "result = mc.tukeyhsd()\n",
    "\n",
    "print(result)\n",
    "print(mc.groupsunique)"
   ]
  },
  {
   "cell_type": "markdown",
   "metadata": {},
   "source": [
    "Task 2:Checking for Linearity\n",
    "Before you execute a linear regression model, it is advisable to validate that certain assumptions are met.\n",
    "you may want to check that a linear relationship exists between the dependent variable and the independent variable/s."
   ]
  },
  {
   "cell_type": "markdown",
   "metadata": {},
   "source": [
    "Performing the Multiple Linear Regression"
   ]
  },
  {
   "cell_type": "code",
   "execution_count": 13,
   "metadata": {},
   "outputs": [],
   "source": [
    "from sklearn import linear_model\n",
    "from statsmodels.formula.api import ols"
   ]
  },
  {
   "cell_type": "markdown",
   "metadata": {},
   "source": [
    "Running a multilinear regression."
   ]
  },
  {
   "cell_type": "code",
   "execution_count": 14,
   "metadata": {},
   "outputs": [
    {
     "data": {
      "text/html": [
       "<table class=\"simpletable\">\n",
       "<caption>OLS Regression Results</caption>\n",
       "<tr>\n",
       "  <th>Dep. Variable:</th>    <td>SalesInThousands</td> <th>  R-squared:         </th> <td>   0.499</td>\n",
       "</tr>\n",
       "<tr>\n",
       "  <th>Model:</th>                   <td>OLS</td>       <th>  Adj. R-squared:    </th> <td>   0.495</td>\n",
       "</tr>\n",
       "<tr>\n",
       "  <th>Method:</th>             <td>Least Squares</td>  <th>  F-statistic:       </th> <td>   135.0</td>\n",
       "</tr>\n",
       "<tr>\n",
       "  <th>Date:</th>             <td>Wed, 24 Aug 2022</td> <th>  Prob (F-statistic):</th> <td>5.22e-80</td>\n",
       "</tr>\n",
       "<tr>\n",
       "  <th>Time:</th>                 <td>16:28:57</td>     <th>  Log-Likelihood:    </th> <td> -2132.5</td>\n",
       "</tr>\n",
       "<tr>\n",
       "  <th>No. Observations:</th>      <td>   548</td>      <th>  AIC:               </th> <td>   4275.</td>\n",
       "</tr>\n",
       "<tr>\n",
       "  <th>Df Residuals:</th>          <td>   543</td>      <th>  BIC:               </th> <td>   4297.</td>\n",
       "</tr>\n",
       "<tr>\n",
       "  <th>Df Model:</th>              <td>     4</td>      <th>                     </th>     <td> </td>   \n",
       "</tr>\n",
       "<tr>\n",
       "  <th>Covariance Type:</th>      <td>nonrobust</td>    <th>                     </th>     <td> </td>   \n",
       "</tr>\n",
       "</table>\n",
       "<table class=\"simpletable\">\n",
       "<tr>\n",
       "             <td></td>                <th>coef</th>     <th>std err</th>      <th>t</th>      <th>P>|t|</th>  <th>[0.025</th>    <th>0.975]</th>  \n",
       "</tr>\n",
       "<tr>\n",
       "  <th>Intercept</th>               <td>   70.1805</td> <td>    1.611</td> <td>   43.562</td> <td> 0.000</td> <td>   67.016</td> <td>   73.345</td>\n",
       "</tr>\n",
       "<tr>\n",
       "  <th>C(MarketSize)[T.Medium]</th> <td>  -26.2576</td> <td>    1.143</td> <td>  -22.965</td> <td> 0.000</td> <td>  -28.503</td> <td>  -24.012</td>\n",
       "</tr>\n",
       "<tr>\n",
       "  <th>C(MarketSize)[T.Small]</th>  <td>  -13.0421</td> <td>    1.814</td> <td>   -7.189</td> <td> 0.000</td> <td>  -16.606</td> <td>   -9.479</td>\n",
       "</tr>\n",
       "<tr>\n",
       "  <th>AgeOfStore</th>              <td>    0.1045</td> <td>    0.078</td> <td>    1.342</td> <td> 0.180</td> <td>   -0.048</td> <td>    0.257</td>\n",
       "</tr>\n",
       "<tr>\n",
       "  <th>Promotion</th>               <td>   -0.4150</td> <td>    0.630</td> <td>   -0.659</td> <td> 0.510</td> <td>   -1.653</td> <td>    0.823</td>\n",
       "</tr>\n",
       "</table>\n",
       "<table class=\"simpletable\">\n",
       "<tr>\n",
       "  <th>Omnibus:</th>       <td> 6.836</td> <th>  Durbin-Watson:     </th> <td>   0.515</td>\n",
       "</tr>\n",
       "<tr>\n",
       "  <th>Prob(Omnibus):</th> <td> 0.033</td> <th>  Jarque-Bera (JB):  </th> <td>   5.661</td>\n",
       "</tr>\n",
       "<tr>\n",
       "  <th>Skew:</th>          <td>-0.164</td> <th>  Prob(JB):          </th> <td>  0.0590</td>\n",
       "</tr>\n",
       "<tr>\n",
       "  <th>Kurtosis:</th>      <td> 2.626</td> <th>  Cond. No.          </th> <td>    43.8</td>\n",
       "</tr>\n",
       "</table><br/><br/>Notes:<br/>[1] Standard Errors assume that the covariance matrix of the errors is correctly specified."
      ],
      "text/plain": [
       "<class 'statsmodels.iolib.summary.Summary'>\n",
       "\"\"\"\n",
       "                            OLS Regression Results                            \n",
       "==============================================================================\n",
       "Dep. Variable:       SalesInThousands   R-squared:                       0.499\n",
       "Model:                            OLS   Adj. R-squared:                  0.495\n",
       "Method:                 Least Squares   F-statistic:                     135.0\n",
       "Date:                Wed, 24 Aug 2022   Prob (F-statistic):           5.22e-80\n",
       "Time:                        16:28:57   Log-Likelihood:                -2132.5\n",
       "No. Observations:                 548   AIC:                             4275.\n",
       "Df Residuals:                     543   BIC:                             4297.\n",
       "Df Model:                           4                                         \n",
       "Covariance Type:            nonrobust                                         \n",
       "===========================================================================================\n",
       "                              coef    std err          t      P>|t|      [0.025      0.975]\n",
       "-------------------------------------------------------------------------------------------\n",
       "Intercept                  70.1805      1.611     43.562      0.000      67.016      73.345\n",
       "C(MarketSize)[T.Medium]   -26.2576      1.143    -22.965      0.000     -28.503     -24.012\n",
       "C(MarketSize)[T.Small]    -13.0421      1.814     -7.189      0.000     -16.606      -9.479\n",
       "AgeOfStore                  0.1045      0.078      1.342      0.180      -0.048       0.257\n",
       "Promotion                  -0.4150      0.630     -0.659      0.510      -1.653       0.823\n",
       "==============================================================================\n",
       "Omnibus:                        6.836   Durbin-Watson:                   0.515\n",
       "Prob(Omnibus):                  0.033   Jarque-Bera (JB):                5.661\n",
       "Skew:                          -0.164   Prob(JB):                       0.0590\n",
       "Kurtosis:                       2.626   Cond. No.                         43.8\n",
       "==============================================================================\n",
       "\n",
       "Notes:\n",
       "[1] Standard Errors assume that the covariance matrix of the errors is correctly specified.\n",
       "\"\"\""
      ]
     },
     "execution_count": 14,
     "metadata": {},
     "output_type": "execute_result"
    }
   ],
   "source": [
    "fit = ols('SalesInThousands ~ AgeOfStore + C(MarketSize) + Promotion', data=marketing_data).fit() \n",
    "\n",
    "fit.summary()"
   ]
  },
  {
   "cell_type": "markdown",
   "metadata": {},
   "source": [
    "Task 3:A"
   ]
  },
  {
   "cell_type": "code",
   "execution_count": 15,
   "metadata": {},
   "outputs": [],
   "source": [
    "import matplotlib.pyplot as plt\n",
    "%matplotlib inline\n",
    "import numpy as np\n",
    "from scipy import stats"
   ]
  },
  {
   "cell_type": "markdown",
   "metadata": {},
   "source": [
    "To determine which promotion type was the most successful , I carried out descriptive Analysis."
   ]
  },
  {
   "cell_type": "code",
   "execution_count": 16,
   "metadata": {},
   "outputs": [
    {
     "data": {
      "image/png": "[encoded data removed]",
      "text/plain": [
       "<Figure size 504x504 with 1 Axes>"
      ]
     },
     "metadata": {},
     "output_type": "display_data"
    }
   ],
   "source": [
    "#by sells\n",
    "dta = marketing_data.groupby(\n",
    "    'Promotion'\n",
    ").sum()[\n",
    "    'SalesInThousands'\n",
    "].plot.pie(\n",
    "    figsize=(7, 7),\n",
    "    autopct='%1.0f%%'\n",
    ")\n",
    "\n",
    "\n",
    "prom = ['Promotion 1', 'Promotion 2', 'Promotion 3']\n",
    "\n",
    "\n",
    "dta.set_ylabel('')\n",
    "dta.set_title('Sales distribution across different promotions')\n",
    "plt.legend(prom, loc=\"upper right\")\n",
    "\n",
    "plt.show()"
   ]
  },
  {
   "cell_type": "markdown",
   "metadata": {},
   "source": [
    "By sales the most successful was promotion 3, followed by promotion 1, then  promotion 2."
   ]
  },
  {
   "cell_type": "code",
   "execution_count": 17,
   "metadata": {},
   "outputs": [
    {
     "data": {
      "text/plain": [
       "MarketSize\n",
       "Large     168\n",
       "Medium    320\n",
       "Small      60\n",
       "Name: MarketID, dtype: int64"
      ]
     },
     "execution_count": 17,
     "metadata": {},
     "output_type": "execute_result"
    }
   ],
   "source": [
    "#By market size\n",
    "marketing_data.groupby('MarketSize').count()['MarketID']"
   ]
  },
  {
   "cell_type": "code",
   "execution_count": 18,
   "metadata": {},
   "outputs": [
    {
     "data": {
      "image/png": "[encoded data removed]",
      "text/plain": [
       "<Figure size 864x720 with 1 Axes>"
      ]
     },
     "metadata": {
      "needs_background": "light"
     },
     "output_type": "display_data"
    }
   ],
   "source": [
    "dta =marketing_data.groupby([\n",
    "    'Promotion', 'MarketSize'\n",
    "]).sum()[\n",
    "    'SalesInThousands'\n",
    "].unstack(\n",
    "    'MarketSize'\n",
    ").plot(\n",
    "    kind='bar',\n",
    "    figsize=(12,10),\n",
    "    grid=True,\n",
    "    stacked=True\n",
    ")\n",
    "\n",
    "dta.set_ylabel('Sales (in Thousands)')\n",
    "dta.set_title('breakdowns of market sizes across different promotions')\n",
    "\n",
    "plt.show()"
   ]
  },
  {
   "cell_type": "markdown",
   "metadata": {},
   "source": [
    "By market size the most successful was promotion 3,followed by promotion 1, then promotion 2."
   ]
  },
  {
   "cell_type": "code",
   "execution_count": 19,
   "metadata": {},
   "outputs": [
    {
     "data": {
      "image/png": "[encoded data removed]",
      "text/plain": [
       "<Figure size 864x1080 with 1 Axes>"
      ]
     },
     "metadata": {
      "needs_background": "light"
     },
     "output_type": "display_data"
    }
   ],
   "source": [
    "#by age of store\n",
    "dta = marketing_data.groupby(\n",
    "    ['AgeOfStore', 'Promotion']\n",
    ").count()[\n",
    "    'MarketID'\n",
    "].unstack(\n",
    "    'Promotion'\n",
    ").iloc[::-1].plot(\n",
    "    kind='barh', \n",
    "    figsize=(12,15),\n",
    "    grid=True\n",
    ")\n",
    "\n",
    "dta.set_ylabel('age')\n",
    "dta.set_xlabel('count')\n",
    "dta.set_title('overall distributions of age of store')\n",
    "\n",
    "plt.show()"
   ]
  },
  {
   "cell_type": "code",
   "execution_count": 20,
   "metadata": {},
   "outputs": [
    {
     "data": {
      "text/html": [
       "<div>\n",
       "<style scoped>\n",
       "    .dataframe tbody tr th:only-of-type {\n",
       "        vertical-align: middle;\n",
       "    }\n",
       "\n",
       "    .dataframe tbody tr th {\n",
       "        vertical-align: top;\n",
       "    }\n",
       "\n",
       "    .dataframe thead th {\n",
       "        text-align: right;\n",
       "    }\n",
       "</style>\n",
       "<table border=\"1\" class=\"dataframe\">\n",
       "  <thead>\n",
       "    <tr style=\"text-align: right;\">\n",
       "      <th></th>\n",
       "      <th>count</th>\n",
       "      <th>mean</th>\n",
       "      <th>std</th>\n",
       "      <th>min</th>\n",
       "      <th>25%</th>\n",
       "      <th>50%</th>\n",
       "      <th>75%</th>\n",
       "      <th>max</th>\n",
       "    </tr>\n",
       "    <tr>\n",
       "      <th>Promotion</th>\n",
       "      <th></th>\n",
       "      <th></th>\n",
       "      <th></th>\n",
       "      <th></th>\n",
       "      <th></th>\n",
       "      <th></th>\n",
       "      <th></th>\n",
       "      <th></th>\n",
       "    </tr>\n",
       "  </thead>\n",
       "  <tbody>\n",
       "    <tr>\n",
       "      <th>1</th>\n",
       "      <td>172.0</td>\n",
       "      <td>8.279070</td>\n",
       "      <td>6.636160</td>\n",
       "      <td>1.0</td>\n",
       "      <td>3.0</td>\n",
       "      <td>6.0</td>\n",
       "      <td>12.0</td>\n",
       "      <td>27.0</td>\n",
       "    </tr>\n",
       "    <tr>\n",
       "      <th>2</th>\n",
       "      <td>188.0</td>\n",
       "      <td>7.978723</td>\n",
       "      <td>6.597648</td>\n",
       "      <td>1.0</td>\n",
       "      <td>3.0</td>\n",
       "      <td>7.0</td>\n",
       "      <td>10.0</td>\n",
       "      <td>28.0</td>\n",
       "    </tr>\n",
       "    <tr>\n",
       "      <th>3</th>\n",
       "      <td>188.0</td>\n",
       "      <td>9.234043</td>\n",
       "      <td>6.651646</td>\n",
       "      <td>1.0</td>\n",
       "      <td>5.0</td>\n",
       "      <td>8.0</td>\n",
       "      <td>12.0</td>\n",
       "      <td>24.0</td>\n",
       "    </tr>\n",
       "  </tbody>\n",
       "</table>\n",
       "</div>"
      ],
      "text/plain": [
       "           count      mean       std  min  25%  50%   75%   max\n",
       "Promotion                                                      \n",
       "1          172.0  8.279070  6.636160  1.0  3.0  6.0  12.0  27.0\n",
       "2          188.0  7.978723  6.597648  1.0  3.0  7.0  10.0  28.0\n",
       "3          188.0  9.234043  6.651646  1.0  5.0  8.0  12.0  24.0"
      ]
     },
     "execution_count": 20,
     "metadata": {},
     "output_type": "execute_result"
    }
   ],
   "source": [
    "marketing_data.groupby('Promotion').describe()['AgeOfStore']"
   ]
  },
  {
   "cell_type": "markdown",
   "metadata": {},
   "source": [
    "Seems like promotion 3 was the most successfully when considering age of store determined by the mean,followed by promotion 1, then promotion 2"
   ]
  },
  {
   "cell_type": "code",
   "execution_count": 21,
   "metadata": {},
   "outputs": [],
   "source": [
    "from statsmodels.stats.power import  tt_ind_solve_power\n",
    "from scipy.interpolate import interp1d\n",
    "import matplotlib.pyplot as plt\n",
    "\n",
    "def test_ttest_power_diff(mean=9.234043, std=6.651646, sample1_size=None, alpha=0.1, desired_power=0.8, mean_diff_percentages=[0.1, 0.05]):\n",
    "    '''\n",
    "    calculates the power function for a given mean and std. the function plots a graph showing the comparison between desired mean differences\n",
    "    :param mean: the desired mean\n",
    "    :param std: the std value\n",
    "    :param sample1_size: if None, it is assumed that both samples (first and second) will have same size. The function then will\n",
    "    walk through possible sample sizes (up to 100, hardcoded).\n",
    "    If this value is not None, the function will check different alternatives for sample 2 sizes up to sample 1 size.\n",
    "    :param alpha: alpha default value is 0.05\n",
    "    :param desired_power: will use this value in order to mark on the graph\n",
    "    :param mean_diff_percentages: iterable list of percentages. A line per value will be calculated and plotted.\n",
    "    :return: None\n",
    "    '''\n",
    "    fig, ax = plt.subplots()\n",
    "    for mean_diff_percent in mean_diff_percentages:\n",
    "        mean_diff = mean_diff_percent * mean\n",
    "        effect_size = mean_diff / std\n",
    "\n",
    "        print('Mean diff: ', mean_diff)\n",
    "        print('Effect size: ', effect_size)\n",
    "\n",
    "        powers = []\n",
    "\n",
    "        max_size  = sample1_size\n",
    "        if sample1_size is None:\n",
    "            max_size = 100\n",
    "\n",
    "        sizes = np.arange(1, max_size, 2)\n",
    "        for sample2_size in sizes:\n",
    "            if(sample1_size is None):\n",
    "                n = tt_ind_solve_power(effect_size=effect_size, nobs1=sample2_size, alpha=alpha, ratio=1.0, alternative='two-sided')\n",
    "                print('tt_ind_solve_power(alpha=', alpha, 'sample2_size=', sample2_size, '): sample size in *second* group: {:.5f}'.format(n))\n",
    "            else:\n",
    "                n = tt_ind_solve_power(effect_size=effect_size, nobs1=sample1_size, alpha=alpha, ratio=(1.0*sample2_size/sample1_size), alternative='two-sided')\n",
    "                print('tt_ind_solve_power(alpha=', alpha, 'sample2_size=', sample2_size, '): sample size *each* group: {:.5f}'.format(n))\n",
    "\n",
    "            powers.append(n)\n",
    "\n",
    "        try: # mark the desired power on the graph\n",
    "            z1 = interp1d(powers, sizes)\n",
    "            results = z1(desired_power)\n",
    "\n",
    "            plt.plot([results], [desired_power], 'gD')\n",
    "        except Exception as e:\n",
    "            print(\"Error: \", e)\n",
    "            #ignore\n",
    "\n",
    "        plt.title('Power vs. Sample Size')\n",
    "        plt.xlabel('Sample Size')\n",
    "        plt.ylabel('Power')\n",
    "\n",
    "        plt.plot(sizes, powers, label='diff={:2.0f}%'.format(100*mean_diff_percent)) #, '-gD')\n",
    "\n",
    "    plt.legend()\n",
    "    plt.show()"
   ]
  },
  {
   "cell_type": "markdown",
   "metadata": {},
   "source": [
    "The next step I carried out significant tests to investigate which promotion type was the most successful.I used T-test which looks to see if mean values of two groups differ signicantly."
   ]
  },
  {
   "cell_type": "code",
   "execution_count": 22,
   "metadata": {},
   "outputs": [
    {
     "data": {
      "text/plain": [
       "Promotion\n",
       "1    58.099012\n",
       "2    47.329415\n",
       "3    55.364468\n",
       "Name: SalesInThousands, dtype: float64"
      ]
     },
     "execution_count": 22,
     "metadata": {},
     "output_type": "execute_result"
    }
   ],
   "source": [
    "means = marketing_data.groupby('Promotion').mean()['SalesInThousands']\n",
    "means"
   ]
  },
  {
   "cell_type": "markdown",
   "metadata": {},
   "source": [
    "Promotion 1 vs. 2"
   ]
  },
  {
   "cell_type": "code",
   "execution_count": 23,
   "metadata": {},
   "outputs": [
    {
     "name": "stdout",
     "output_type": "stream",
     "text": [
      "t-Value: 6.4275287\n",
      "p-Value: 0.0000000\n"
     ]
    }
   ],
   "source": [
    "t, p = stats.ttest_ind(\n",
    "    marketing_data.loc[marketing_data['Promotion'] == 1, 'SalesInThousands'].values, \n",
    "    marketing_data.loc[marketing_data['Promotion'] == 2, 'SalesInThousands'].values, \n",
    "    equal_var=False\n",
    ")\n",
    "print(\"t-Value: \" + str('{:.7f}'.format(t)))\n",
    "print(\"p-Value: \" + str('{:.7f}'.format(p)))"
   ]
  },
  {
   "cell_type": "markdown",
   "metadata": {},
   "source": [
    "Promotion 1 vs. 3"
   ]
  },
  {
   "cell_type": "code",
   "execution_count": 24,
   "metadata": {},
   "outputs": [
    {
     "name": "stdout",
     "output_type": "stream",
     "text": [
      "t-Value: 1.5560224\n",
      "p-Value: 0.1205915\n"
     ]
    }
   ],
   "source": [
    "t, p = stats.ttest_ind(\n",
    "    marketing_data.loc[marketing_data['Promotion'] == 1, 'SalesInThousands'].values, \n",
    "    marketing_data.loc[marketing_data['Promotion'] == 3, 'SalesInThousands'].values, \n",
    "    equal_var=False\n",
    ")\n",
    "print(\"t-Value: \" + str('{:.7f}'.format(t)))\n",
    "print(\"p-Value: \" + str('{:.7f}'.format(p)))\n"
   ]
  },
  {
   "cell_type": "markdown",
   "metadata": {},
   "source": [
    "Promotion 2 vs. 3"
   ]
  },
  {
   "cell_type": "code",
   "execution_count": 25,
   "metadata": {},
   "outputs": [
    {
     "name": "stdout",
     "output_type": "stream",
     "text": [
      "t-Value: -4.8813927\n",
      "p-Value: 0.0000016\n"
     ]
    }
   ],
   "source": [
    "t, p = stats.ttest_ind(\n",
    "    marketing_data.loc[marketing_data['Promotion'] == 2, 'SalesInThousands'].values, \n",
    "    marketing_data.loc[marketing_data['Promotion'] == 3, 'SalesInThousands'].values, \n",
    "    equal_var=False\n",
    ")\n",
    "print(\"t-Value: \" + str('{:.7f}'.format(t)))\n",
    "print(\"p-Value: \" + str('{:.7f}'.format(p)))"
   ]
  }
 ],
 "metadata": {
  "kernelspec": {
   "display_name": "Python 3.10.6 64-bit (windows store)",
   "language": "python",
   "name": "python3"
  },
  "language_info": {
   "codemirror_mode": {
    "name": "ipython",
    "version": 3
   },
   "file_extension": ".py",
   "mimetype": "text/x-python",
   "name": "python",
   "nbconvert_exporter": "python",
   "pygments_lexer": "ipython3",
   "version": "3.10.6"
  },
  "orig_nbformat": 4,
  "vscode": {
   "interpreter": {
    "hash": "4b46fdcec2a339de20233c8d89095cb8b913f8f11208c0db25baf66f440175c2"
   }
  }
 },
 "nbformat": 4,
 "nbformat_minor": 2
}
